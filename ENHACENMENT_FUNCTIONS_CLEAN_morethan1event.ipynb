{
  "nbformat": 4,
  "nbformat_minor": 0,
  "metadata": {
    "colab": {
      "provenance": []
    },
    "kernelspec": {
      "name": "python3",
      "display_name": "Python 3"
    },
    "language_info": {
      "name": "python"
    }
  },
  "cells": [
    {
      "cell_type": "code",
      "source": [
        "from google.colab import drive\n",
        "drive.mount('/content/drive/MyDrive/RAC_SIMABS')"
      ],
      "metadata": {
        "id": "-1qr0EkdaJq1"
      },
      "execution_count": null,
      "outputs": []
    },
    {
      "cell_type": "code",
      "source": [
        "new_table= pd.read_csv('dataset_real.csv').drop(['Unnamed:0'], axis=1)"
      ],
      "metadata": {
        "id": "pJeDXnjubcNR"
      },
      "execution_count": null,
      "outputs": []
    },
    {
      "cell_type": "markdown",
      "source": [
        "**START FROM HERE**"
      ],
      "metadata": {
        "id": "jVCnggC-cfgC"
      }
    },
    {
      "cell_type": "code",
      "execution_count": null,
      "metadata": {
        "id": "ZaqqI3Nv67e-"
      },
      "outputs": [],
      "source": [
        "import numpy as np\n",
        "import matplotlib.pyplot as plt\n",
        "import pandas as pd\n",
        "import scipy.stats as ss"
      ]
    },
    {
      "cell_type": "code",
      "source": [
        "from google.colab import files\n",
        "import io\n",
        "uploaded1 = files.upload()"
      ],
      "metadata": {
        "colab": {
          "base_uri": "https://localhost:8080/",
          "height": 75
        },
        "id": "foJlbg8S7C1D",
        "outputId": "a12be5ad-e75d-4b1e-bd44-97e1bbb06779"
      },
      "execution_count": null,
      "outputs": [
        {
          "output_type": "display_data",
          "data": {
            "text/plain": [
              "<IPython.core.display.HTML object>"
            ],
            "text/html": [
              "\n",
              "     <input type=\"file\" id=\"files-92402d38-418b-4e55-aa89-1b303b1f78f9\" name=\"files[]\" multiple disabled\n",
              "        style=\"border:none\" />\n",
              "     <output id=\"result-92402d38-418b-4e55-aa89-1b303b1f78f9\">\n",
              "      Upload widget is only available when the cell has been executed in the\n",
              "      current browser session. Please rerun this cell to enable.\n",
              "      </output>\n",
              "      <script>// Copyright 2017 Google LLC\n",
              "//\n",
              "// Licensed under the Apache License, Version 2.0 (the \"License\");\n",
              "// you may not use this file except in compliance with the License.\n",
              "// You may obtain a copy of the License at\n",
              "//\n",
              "//      http://www.apache.org/licenses/LICENSE-2.0\n",
              "//\n",
              "// Unless required by applicable law or agreed to in writing, software\n",
              "// distributed under the License is distributed on an \"AS IS\" BASIS,\n",
              "// WITHOUT WARRANTIES OR CONDITIONS OF ANY KIND, either express or implied.\n",
              "// See the License for the specific language governing permissions and\n",
              "// limitations under the License.\n",
              "\n",
              "/**\n",
              " * @fileoverview Helpers for google.colab Python module.\n",
              " */\n",
              "(function(scope) {\n",
              "function span(text, styleAttributes = {}) {\n",
              "  const element = document.createElement('span');\n",
              "  element.textContent = text;\n",
              "  for (const key of Object.keys(styleAttributes)) {\n",
              "    element.style[key] = styleAttributes[key];\n",
              "  }\n",
              "  return element;\n",
              "}\n",
              "\n",
              "// Max number of bytes which will be uploaded at a time.\n",
              "const MAX_PAYLOAD_SIZE = 100 * 1024;\n",
              "\n",
              "function _uploadFiles(inputId, outputId) {\n",
              "  const steps = uploadFilesStep(inputId, outputId);\n",
              "  const outputElement = document.getElementById(outputId);\n",
              "  // Cache steps on the outputElement to make it available for the next call\n",
              "  // to uploadFilesContinue from Python.\n",
              "  outputElement.steps = steps;\n",
              "\n",
              "  return _uploadFilesContinue(outputId);\n",
              "}\n",
              "\n",
              "// This is roughly an async generator (not supported in the browser yet),\n",
              "// where there are multiple asynchronous steps and the Python side is going\n",
              "// to poll for completion of each step.\n",
              "// This uses a Promise to block the python side on completion of each step,\n",
              "// then passes the result of the previous step as the input to the next step.\n",
              "function _uploadFilesContinue(outputId) {\n",
              "  const outputElement = document.getElementById(outputId);\n",
              "  const steps = outputElement.steps;\n",
              "\n",
              "  const next = steps.next(outputElement.lastPromiseValue);\n",
              "  return Promise.resolve(next.value.promise).then((value) => {\n",
              "    // Cache the last promise value to make it available to the next\n",
              "    // step of the generator.\n",
              "    outputElement.lastPromiseValue = value;\n",
              "    return next.value.response;\n",
              "  });\n",
              "}\n",
              "\n",
              "/**\n",
              " * Generator function which is called between each async step of the upload\n",
              " * process.\n",
              " * @param {string} inputId Element ID of the input file picker element.\n",
              " * @param {string} outputId Element ID of the output display.\n",
              " * @return {!Iterable<!Object>} Iterable of next steps.\n",
              " */\n",
              "function* uploadFilesStep(inputId, outputId) {\n",
              "  const inputElement = document.getElementById(inputId);\n",
              "  inputElement.disabled = false;\n",
              "\n",
              "  const outputElement = document.getElementById(outputId);\n",
              "  outputElement.innerHTML = '';\n",
              "\n",
              "  const pickedPromise = new Promise((resolve) => {\n",
              "    inputElement.addEventListener('change', (e) => {\n",
              "      resolve(e.target.files);\n",
              "    });\n",
              "  });\n",
              "\n",
              "  const cancel = document.createElement('button');\n",
              "  inputElement.parentElement.appendChild(cancel);\n",
              "  cancel.textContent = 'Cancel upload';\n",
              "  const cancelPromise = new Promise((resolve) => {\n",
              "    cancel.onclick = () => {\n",
              "      resolve(null);\n",
              "    };\n",
              "  });\n",
              "\n",
              "  // Wait for the user to pick the files.\n",
              "  const files = yield {\n",
              "    promise: Promise.race([pickedPromise, cancelPromise]),\n",
              "    response: {\n",
              "      action: 'starting',\n",
              "    }\n",
              "  };\n",
              "\n",
              "  cancel.remove();\n",
              "\n",
              "  // Disable the input element since further picks are not allowed.\n",
              "  inputElement.disabled = true;\n",
              "\n",
              "  if (!files) {\n",
              "    return {\n",
              "      response: {\n",
              "        action: 'complete',\n",
              "      }\n",
              "    };\n",
              "  }\n",
              "\n",
              "  for (const file of files) {\n",
              "    const li = document.createElement('li');\n",
              "    li.append(span(file.name, {fontWeight: 'bold'}));\n",
              "    li.append(span(\n",
              "        `(${file.type || 'n/a'}) - ${file.size} bytes, ` +\n",
              "        `last modified: ${\n",
              "            file.lastModifiedDate ? file.lastModifiedDate.toLocaleDateString() :\n",
              "                                    'n/a'} - `));\n",
              "    const percent = span('0% done');\n",
              "    li.appendChild(percent);\n",
              "\n",
              "    outputElement.appendChild(li);\n",
              "\n",
              "    const fileDataPromise = new Promise((resolve) => {\n",
              "      const reader = new FileReader();\n",
              "      reader.onload = (e) => {\n",
              "        resolve(e.target.result);\n",
              "      };\n",
              "      reader.readAsArrayBuffer(file);\n",
              "    });\n",
              "    // Wait for the data to be ready.\n",
              "    let fileData = yield {\n",
              "      promise: fileDataPromise,\n",
              "      response: {\n",
              "        action: 'continue',\n",
              "      }\n",
              "    };\n",
              "\n",
              "    // Use a chunked sending to avoid message size limits. See b/62115660.\n",
              "    let position = 0;\n",
              "    do {\n",
              "      const length = Math.min(fileData.byteLength - position, MAX_PAYLOAD_SIZE);\n",
              "      const chunk = new Uint8Array(fileData, position, length);\n",
              "      position += length;\n",
              "\n",
              "      const base64 = btoa(String.fromCharCode.apply(null, chunk));\n",
              "      yield {\n",
              "        response: {\n",
              "          action: 'append',\n",
              "          file: file.name,\n",
              "          data: base64,\n",
              "        },\n",
              "      };\n",
              "\n",
              "      let percentDone = fileData.byteLength === 0 ?\n",
              "          100 :\n",
              "          Math.round((position / fileData.byteLength) * 100);\n",
              "      percent.textContent = `${percentDone}% done`;\n",
              "\n",
              "    } while (position < fileData.byteLength);\n",
              "  }\n",
              "\n",
              "  // All done.\n",
              "  yield {\n",
              "    response: {\n",
              "      action: 'complete',\n",
              "    }\n",
              "  };\n",
              "}\n",
              "\n",
              "scope.google = scope.google || {};\n",
              "scope.google.colab = scope.google.colab || {};\n",
              "scope.google.colab._files = {\n",
              "  _uploadFiles,\n",
              "  _uploadFilesContinue,\n",
              "};\n",
              "})(self);\n",
              "</script> "
            ]
          },
          "metadata": {}
        },
        {
          "output_type": "stream",
          "name": "stdout",
          "text": [
            "Saving dataset_real.csv to dataset_real (2).csv\n"
          ]
        }
      ]
    },
    {
      "cell_type": "code",
      "source": [
        "def gauss(mu, sigma, x):\n",
        "  y = 1/(sigma*np.sqrt(2*np.pi))*np.exp((-1/2)*((x-mu)/sigma)**2)\n",
        "  return(y)"
      ],
      "metadata": {
        "id": "WcBAntqXOfZn"
      },
      "execution_count": null,
      "outputs": []
    },
    {
      "cell_type": "code",
      "source": [
        "def poisson(mu, k):\n",
        "  y = (np.exp(-mu)*mu**(k))/np.math.factorial(k)\n",
        "  return(y)"
      ],
      "metadata": {
        "id": "6uXikfcYGzju"
      },
      "execution_count": null,
      "outputs": []
    },
    {
      "cell_type": "code",
      "source": [
        "new_table = pd.read_csv(io.BytesIO(uploaded1['dataset_real.csv'])).drop(['Unnamed: 0'], axis=1)"
      ],
      "metadata": {
        "id": "vmZSxCwC7D1V"
      },
      "execution_count": null,
      "outputs": []
    },
    {
      "cell_type": "code",
      "source": [
        "mu=-0.1\n",
        "#sigma=0.05\n",
        "pn_random=[]\n",
        "for i in range(len(new_table['POWER NOISE (dBm)'])):\n",
        "  pn_random.append(new_table['POWER NOISE (dBm)'][i] + np.random.normal(mu, sigma))\n",
        "\n",
        "new_table.insert(6, 'RAND POWER NOISE (dBm)', pn_random, True)"
      ],
      "metadata": {
        "id": "V_ur1YrL7FjM"
      },
      "execution_count": null,
      "outputs": []
    },
    {
      "cell_type": "code",
      "source": [
        "new_table"
      ],
      "metadata": {
        "id": "j2_9F8WXJQaV",
        "colab": {
          "base_uri": "https://localhost:8080/",
          "height": 424
        },
        "outputId": "6265015c-edef-4680-fe14-0d16fdb5cd55"
      },
      "execution_count": null,
      "outputs": [
        {
          "output_type": "execute_result",
          "data": {
            "text/plain": [
              "       TIME (HH:MM)  TIME (INT)  FREQUENCY (MHz)  DELTA RA (DEG)  \\\n",
              "0             00:00         0.0             30.0            37.5   \n",
              "1             00:00         0.0             30.0            25.0   \n",
              "2             00:00         0.0             30.0            12.5   \n",
              "3             00:00         0.0             30.0             0.0   \n",
              "4             00:00         0.0             30.0           -12.5   \n",
              "...             ...         ...              ...             ...   \n",
              "147338        24:00        24.0             45.0            12.5   \n",
              "147339        24:00        24.0             45.0             0.0   \n",
              "147340        24:00        24.0             45.0           -12.5   \n",
              "147341        24:00        24.0             45.0           -25.0   \n",
              "147342        24:00        24.0             45.0           -37.5   \n",
              "\n",
              "        DELTA DEC (DEG)  POWER NOISE (dBm)  RAND POWER NOISE (dBm)  \n",
              "0                  37.5        -130.894597             -131.844208  \n",
              "1                  37.5        -129.767549             -128.668724  \n",
              "2                  37.5        -128.797421             -128.983978  \n",
              "3                  37.5        -128.465340             -127.123218  \n",
              "4                  37.5        -128.815689             -129.935223  \n",
              "...                 ...                ...                     ...  \n",
              "147338            -37.5        -136.720710             -138.580312  \n",
              "147339            -37.5        -137.199038             -139.350602  \n",
              "147340            -37.5        -137.581501             -136.910756  \n",
              "147341            -37.5        -137.839917             -139.340219  \n",
              "147342            -37.5        -137.972181             -139.179423  \n",
              "\n",
              "[147343 rows x 7 columns]"
            ],
            "text/html": [
              "\n",
              "  <div id=\"df-b32bcf41-db5a-43f3-9774-a71a4b4c9b5b\">\n",
              "    <div class=\"colab-df-container\">\n",
              "      <div>\n",
              "<style scoped>\n",
              "    .dataframe tbody tr th:only-of-type {\n",
              "        vertical-align: middle;\n",
              "    }\n",
              "\n",
              "    .dataframe tbody tr th {\n",
              "        vertical-align: top;\n",
              "    }\n",
              "\n",
              "    .dataframe thead th {\n",
              "        text-align: right;\n",
              "    }\n",
              "</style>\n",
              "<table border=\"1\" class=\"dataframe\">\n",
              "  <thead>\n",
              "    <tr style=\"text-align: right;\">\n",
              "      <th></th>\n",
              "      <th>TIME (HH:MM)</th>\n",
              "      <th>TIME (INT)</th>\n",
              "      <th>FREQUENCY (MHz)</th>\n",
              "      <th>DELTA RA (DEG)</th>\n",
              "      <th>DELTA DEC (DEG)</th>\n",
              "      <th>POWER NOISE (dBm)</th>\n",
              "      <th>RAND POWER NOISE (dBm)</th>\n",
              "    </tr>\n",
              "  </thead>\n",
              "  <tbody>\n",
              "    <tr>\n",
              "      <th>0</th>\n",
              "      <td>00:00</td>\n",
              "      <td>0.0</td>\n",
              "      <td>30.0</td>\n",
              "      <td>37.5</td>\n",
              "      <td>37.5</td>\n",
              "      <td>-130.894597</td>\n",
              "      <td>-131.844208</td>\n",
              "    </tr>\n",
              "    <tr>\n",
              "      <th>1</th>\n",
              "      <td>00:00</td>\n",
              "      <td>0.0</td>\n",
              "      <td>30.0</td>\n",
              "      <td>25.0</td>\n",
              "      <td>37.5</td>\n",
              "      <td>-129.767549</td>\n",
              "      <td>-128.668724</td>\n",
              "    </tr>\n",
              "    <tr>\n",
              "      <th>2</th>\n",
              "      <td>00:00</td>\n",
              "      <td>0.0</td>\n",
              "      <td>30.0</td>\n",
              "      <td>12.5</td>\n",
              "      <td>37.5</td>\n",
              "      <td>-128.797421</td>\n",
              "      <td>-128.983978</td>\n",
              "    </tr>\n",
              "    <tr>\n",
              "      <th>3</th>\n",
              "      <td>00:00</td>\n",
              "      <td>0.0</td>\n",
              "      <td>30.0</td>\n",
              "      <td>0.0</td>\n",
              "      <td>37.5</td>\n",
              "      <td>-128.465340</td>\n",
              "      <td>-127.123218</td>\n",
              "    </tr>\n",
              "    <tr>\n",
              "      <th>4</th>\n",
              "      <td>00:00</td>\n",
              "      <td>0.0</td>\n",
              "      <td>30.0</td>\n",
              "      <td>-12.5</td>\n",
              "      <td>37.5</td>\n",
              "      <td>-128.815689</td>\n",
              "      <td>-129.935223</td>\n",
              "    </tr>\n",
              "    <tr>\n",
              "      <th>...</th>\n",
              "      <td>...</td>\n",
              "      <td>...</td>\n",
              "      <td>...</td>\n",
              "      <td>...</td>\n",
              "      <td>...</td>\n",
              "      <td>...</td>\n",
              "      <td>...</td>\n",
              "    </tr>\n",
              "    <tr>\n",
              "      <th>147338</th>\n",
              "      <td>24:00</td>\n",
              "      <td>24.0</td>\n",
              "      <td>45.0</td>\n",
              "      <td>12.5</td>\n",
              "      <td>-37.5</td>\n",
              "      <td>-136.720710</td>\n",
              "      <td>-138.580312</td>\n",
              "    </tr>\n",
              "    <tr>\n",
              "      <th>147339</th>\n",
              "      <td>24:00</td>\n",
              "      <td>24.0</td>\n",
              "      <td>45.0</td>\n",
              "      <td>0.0</td>\n",
              "      <td>-37.5</td>\n",
              "      <td>-137.199038</td>\n",
              "      <td>-139.350602</td>\n",
              "    </tr>\n",
              "    <tr>\n",
              "      <th>147340</th>\n",
              "      <td>24:00</td>\n",
              "      <td>24.0</td>\n",
              "      <td>45.0</td>\n",
              "      <td>-12.5</td>\n",
              "      <td>-37.5</td>\n",
              "      <td>-137.581501</td>\n",
              "      <td>-136.910756</td>\n",
              "    </tr>\n",
              "    <tr>\n",
              "      <th>147341</th>\n",
              "      <td>24:00</td>\n",
              "      <td>24.0</td>\n",
              "      <td>45.0</td>\n",
              "      <td>-25.0</td>\n",
              "      <td>-37.5</td>\n",
              "      <td>-137.839917</td>\n",
              "      <td>-139.340219</td>\n",
              "    </tr>\n",
              "    <tr>\n",
              "      <th>147342</th>\n",
              "      <td>24:00</td>\n",
              "      <td>24.0</td>\n",
              "      <td>45.0</td>\n",
              "      <td>-37.5</td>\n",
              "      <td>-37.5</td>\n",
              "      <td>-137.972181</td>\n",
              "      <td>-139.179423</td>\n",
              "    </tr>\n",
              "  </tbody>\n",
              "</table>\n",
              "<p>147343 rows × 7 columns</p>\n",
              "</div>\n",
              "      <button class=\"colab-df-convert\" onclick=\"convertToInteractive('df-b32bcf41-db5a-43f3-9774-a71a4b4c9b5b')\"\n",
              "              title=\"Convert this dataframe to an interactive table.\"\n",
              "              style=\"display:none;\">\n",
              "        \n",
              "  <svg xmlns=\"http://www.w3.org/2000/svg\" height=\"24px\"viewBox=\"0 0 24 24\"\n",
              "       width=\"24px\">\n",
              "    <path d=\"M0 0h24v24H0V0z\" fill=\"none\"/>\n",
              "    <path d=\"M18.56 5.44l.94 2.06.94-2.06 2.06-.94-2.06-.94-.94-2.06-.94 2.06-2.06.94zm-11 1L8.5 8.5l.94-2.06 2.06-.94-2.06-.94L8.5 2.5l-.94 2.06-2.06.94zm10 10l.94 2.06.94-2.06 2.06-.94-2.06-.94-.94-2.06-.94 2.06-2.06.94z\"/><path d=\"M17.41 7.96l-1.37-1.37c-.4-.4-.92-.59-1.43-.59-.52 0-1.04.2-1.43.59L10.3 9.45l-7.72 7.72c-.78.78-.78 2.05 0 2.83L4 21.41c.39.39.9.59 1.41.59.51 0 1.02-.2 1.41-.59l7.78-7.78 2.81-2.81c.8-.78.8-2.07 0-2.86zM5.41 20L4 18.59l7.72-7.72 1.47 1.35L5.41 20z\"/>\n",
              "  </svg>\n",
              "      </button>\n",
              "      \n",
              "  <style>\n",
              "    .colab-df-container {\n",
              "      display:flex;\n",
              "      flex-wrap:wrap;\n",
              "      gap: 12px;\n",
              "    }\n",
              "\n",
              "    .colab-df-convert {\n",
              "      background-color: #E8F0FE;\n",
              "      border: none;\n",
              "      border-radius: 50%;\n",
              "      cursor: pointer;\n",
              "      display: none;\n",
              "      fill: #1967D2;\n",
              "      height: 32px;\n",
              "      padding: 0 0 0 0;\n",
              "      width: 32px;\n",
              "    }\n",
              "\n",
              "    .colab-df-convert:hover {\n",
              "      background-color: #E2EBFA;\n",
              "      box-shadow: 0px 1px 2px rgba(60, 64, 67, 0.3), 0px 1px 3px 1px rgba(60, 64, 67, 0.15);\n",
              "      fill: #174EA6;\n",
              "    }\n",
              "\n",
              "    [theme=dark] .colab-df-convert {\n",
              "      background-color: #3B4455;\n",
              "      fill: #D2E3FC;\n",
              "    }\n",
              "\n",
              "    [theme=dark] .colab-df-convert:hover {\n",
              "      background-color: #434B5C;\n",
              "      box-shadow: 0px 1px 3px 1px rgba(0, 0, 0, 0.15);\n",
              "      filter: drop-shadow(0px 1px 2px rgba(0, 0, 0, 0.3));\n",
              "      fill: #FFFFFF;\n",
              "    }\n",
              "  </style>\n",
              "\n",
              "      <script>\n",
              "        const buttonEl =\n",
              "          document.querySelector('#df-b32bcf41-db5a-43f3-9774-a71a4b4c9b5b button.colab-df-convert');\n",
              "        buttonEl.style.display =\n",
              "          google.colab.kernel.accessAllowed ? 'block' : 'none';\n",
              "\n",
              "        async function convertToInteractive(key) {\n",
              "          const element = document.querySelector('#df-b32bcf41-db5a-43f3-9774-a71a4b4c9b5b');\n",
              "          const dataTable =\n",
              "            await google.colab.kernel.invokeFunction('convertToInteractive',\n",
              "                                                     [key], {});\n",
              "          if (!dataTable) return;\n",
              "\n",
              "          const docLinkHtml = 'Like what you see? Visit the ' +\n",
              "            '<a target=\"_blank\" href=https://colab.research.google.com/notebooks/data_table.ipynb>data table notebook</a>'\n",
              "            + ' to learn more about interactive tables.';\n",
              "          element.innerHTML = '';\n",
              "          dataTable['output_type'] = 'display_data';\n",
              "          await google.colab.output.renderOutput(dataTable, element);\n",
              "          const docLink = document.createElement('div');\n",
              "          docLink.innerHTML = docLinkHtml;\n",
              "          element.appendChild(docLink);\n",
              "        }\n",
              "      </script>\n",
              "    </div>\n",
              "  </div>\n",
              "  "
            ]
          },
          "metadata": {},
          "execution_count": 461
        }
      ]
    },
    {
      "cell_type": "markdown",
      "source": [
        "**Event 1**"
      ],
      "metadata": {
        "id": "3dH7R3d7C_D9"
      }
    },
    {
      "cell_type": "code",
      "source": [
        "mu_poisson1= 1.5\n",
        "time_selected_hours1= np.arange(7., 8.25, 0.25)\n",
        "k_poisson1= []\n",
        "for i in range(0,5,1):\n",
        "  k_poisson1.append(i)\n",
        "\n",
        "poisson_time_dist1= []\n",
        "for i in range(len(time_selected_hours1)):\n",
        "  poisson_time_dist1.append(poisson(mu_poisson1, k_poisson1[i]))\n",
        "\n",
        "dict_time_weights1= {}\n",
        "for A1, B1 in zip(time_selected_hours1, poisson_time_dist1):\n",
        "    dict_time_weights1[A1] = B1"
      ],
      "metadata": {
        "id": "sDj8O8K0lddy"
      },
      "execution_count": null,
      "outputs": []
    },
    {
      "cell_type": "code",
      "source": [
        "plt.plot(time_selected_hours1, poisson_time_dist1)"
      ],
      "metadata": {
        "colab": {
          "base_uri": "https://localhost:8080/",
          "height": 448
        },
        "id": "C4PkN0LAlyxR",
        "outputId": "094dd5a1-022a-4a08-9658-7725f946da88"
      },
      "execution_count": null,
      "outputs": [
        {
          "output_type": "execute_result",
          "data": {
            "text/plain": [
              "[<matplotlib.lines.Line2D at 0x7f1f269956d0>]"
            ]
          },
          "metadata": {},
          "execution_count": 428
        },
        {
          "output_type": "display_data",
          "data": {
            "text/plain": [
              "<Figure size 640x480 with 1 Axes>"
            ],
            "image/png": "[encoded data removed]"
          },
          "metadata": {}
        }
      ]
    },
    {
      "cell_type": "code",
      "source": [
        "mu_gauss1_1 =7.5\n",
        "sigma_gauss1_1 = 10.\n",
        "ra_selected_deg1= np.arange(37.5, -25.0, -12.5)\n",
        "\n",
        "gauss_ra_dist1=[]\n",
        "for i in range(len(ra_selected_deg1)):\n",
        "  gauss_ra_dist1.append(gauss(mu_gauss1_1,sigma_gauss1_1,ra_selected_deg1[i]))\n",
        "\n",
        "dict_ra_weights1 = {}\n",
        "for C1, D1 in zip(ra_selected_deg1, gauss_ra_dist1):\n",
        "    dict_ra_weights1[C1] = D1"
      ],
      "metadata": {
        "id": "X8LcNQ2YmH8_"
      },
      "execution_count": null,
      "outputs": []
    },
    {
      "cell_type": "code",
      "source": [
        "plt.plot(ra_selected_deg1, gauss_ra_dist1)"
      ],
      "metadata": {
        "colab": {
          "base_uri": "https://localhost:8080/",
          "height": 448
        },
        "id": "sZM9-hCNmYI3",
        "outputId": "81647c8b-3773-4005-d17e-fd383670120c"
      },
      "execution_count": null,
      "outputs": [
        {
          "output_type": "execute_result",
          "data": {
            "text/plain": [
              "[<matplotlib.lines.Line2D at 0x7f1f220efc40>]"
            ]
          },
          "metadata": {},
          "execution_count": 430
        },
        {
          "output_type": "display_data",
          "data": {
            "text/plain": [
              "<Figure size 640x480 with 1 Axes>"
            ],
            "image/png": "[encoded data removed]"
          },
          "metadata": {}
        }
      ]
    },
    {
      "cell_type": "code",
      "source": [
        "mu_gauss1_2 = 25.\n",
        "sigma_gauss1_2 = 10.\n",
        "dec_selected_deg1= np.arange(-12.5, 50.0, 12.5)\n",
        "\n",
        "gauss_dec_dist1=[]\n",
        "for i in range(len(dec_selected_deg1)):\n",
        "  gauss_dec_dist1.append(gauss(mu_gauss1_2,sigma_gauss1_2,dec_selected_deg1[i]))\n",
        "\n",
        "dict_dec_weights1 = {}\n",
        "for E1, F1 in zip(dec_selected_deg1, gauss_dec_dist1):\n",
        "    dict_dec_weights1[E1] = F1"
      ],
      "metadata": {
        "id": "G_vJ4rO0ndsL"
      },
      "execution_count": null,
      "outputs": []
    },
    {
      "cell_type": "code",
      "source": [
        "plt.plot(dec_selected_deg1, gauss_dec_dist1)"
      ],
      "metadata": {
        "colab": {
          "base_uri": "https://localhost:8080/",
          "height": 448
        },
        "id": "x_pjNnpnnvLL",
        "outputId": "2368969b-0a57-4e6f-c293-3d7145a00afb"
      },
      "execution_count": null,
      "outputs": [
        {
          "output_type": "execute_result",
          "data": {
            "text/plain": [
              "[<matplotlib.lines.Line2D at 0x7f1f21da4cd0>]"
            ]
          },
          "metadata": {},
          "execution_count": 432
        },
        {
          "output_type": "display_data",
          "data": {
            "text/plain": [
              "<Figure size 640x480 with 1 Axes>"
            ],
            "image/png": "[encoded data removed]"
          },
          "metadata": {}
        }
      ]
    },
    {
      "cell_type": "code",
      "source": [
        "dict_time_weights1"
      ],
      "metadata": {
        "colab": {
          "base_uri": "https://localhost:8080/"
        },
        "id": "T-C4uo1J9T-p",
        "outputId": "aa06400f-3635-4677-9e70-d2d0ab8411b6"
      },
      "execution_count": null,
      "outputs": [
        {
          "output_type": "execute_result",
          "data": {
            "text/plain": [
              "{7.0: 0.22313016014842982,\n",
              " 7.25: 0.33469524022264474,\n",
              " 7.5: 0.25102143016698353,\n",
              " 7.75: 0.12551071508349176,\n",
              " 8.0: 0.04706651815630941}"
            ]
          },
          "metadata": {},
          "execution_count": 433
        }
      ]
    },
    {
      "cell_type": "code",
      "source": [
        "dict_ra_weights1"
      ],
      "metadata": {
        "colab": {
          "base_uri": "https://localhost:8080/"
        },
        "id": "_Skgt67X9XG2",
        "outputId": "f0ec1fb9-becd-4722-dccb-b754fec163f2"
      },
      "execution_count": null,
      "outputs": [
        {
          "output_type": "execute_result",
          "data": {
            "text/plain": [
              "{37.5: 0.00044318484119380076,\n",
              " 25.0: 0.008627731882651153,\n",
              " 12.5: 0.03520653267642995,\n",
              " 0.0: 0.030113743215480444,\n",
              " -12.5: 0.005399096651318806}"
            ]
          },
          "metadata": {},
          "execution_count": 434
        }
      ]
    },
    {
      "cell_type": "code",
      "source": [
        "dict_dec_weights1"
      ],
      "metadata": {
        "colab": {
          "base_uri": "https://localhost:8080/"
        },
        "id": "xpnivrHhRl48",
        "outputId": "12505805-71d5-4aec-8801-8215442e0c76"
      },
      "execution_count": null,
      "outputs": [
        {
          "output_type": "execute_result",
          "data": {
            "text/plain": [
              "{-12.5: 3.5259568236744546e-05,\n",
              " 0.0: 0.0017528300493568543,\n",
              " 12.5: 0.018264908538902194,\n",
              " 25.0: 0.039894228040143274,\n",
              " 37.5: 0.018264908538902194}"
            ]
          },
          "metadata": {},
          "execution_count": 435
        }
      ]
    },
    {
      "cell_type": "markdown",
      "source": [
        "**Event 1**"
      ],
      "metadata": {
        "id": "jnggym6MDBd2"
      }
    },
    {
      "cell_type": "markdown",
      "source": [
        "**Event 2**"
      ],
      "metadata": {
        "id": "TcPeV1X_C9Dz"
      }
    },
    {
      "cell_type": "code",
      "source": [
        "mu_poisson2= 6.\n",
        "time_selected_hours2= np.arange(12., 14., 0.25)\n",
        "k_poisson2= []\n",
        "for i in range(0,8,1):\n",
        "  k_poisson2.append(i)\n",
        "\n",
        "poisson_time_dist2= []\n",
        "for i in range(len(time_selected_hours2)):\n",
        "  poisson_time_dist2.append(poisson(mu_poisson2, k_poisson2[i]))\n",
        "\n",
        "dict_time_weights2= {}\n",
        "for A2, B2 in zip(time_selected_hours2, poisson_time_dist2):\n",
        "    dict_time_weights2[A2] = B2"
      ],
      "metadata": {
        "id": "Jw0tPYlLDC71"
      },
      "execution_count": null,
      "outputs": []
    },
    {
      "cell_type": "code",
      "source": [
        "plt.plot(time_selected_hours2, poisson_time_dist2)"
      ],
      "metadata": {
        "colab": {
          "base_uri": "https://localhost:8080/",
          "height": 448
        },
        "id": "QPcw66uMFh1x",
        "outputId": "49cc5fad-a5b3-4d70-bd22-7c08efe5d751"
      },
      "execution_count": null,
      "outputs": [
        {
          "output_type": "execute_result",
          "data": {
            "text/plain": [
              "[<matplotlib.lines.Line2D at 0x7f1f21edf670>]"
            ]
          },
          "metadata": {},
          "execution_count": 437
        },
        {
          "output_type": "display_data",
          "data": {
            "text/plain": [
              "<Figure size 640x480 with 1 Axes>"
            ],
            "image/png": "[encoded data removed]"
          },
          "metadata": {}
        }
      ]
    },
    {
      "cell_type": "code",
      "source": [
        "mu_gauss2_1 = 0\n",
        "sigma_gauss2_1 = 20\n",
        "ra_selected_deg2= np.arange(25.,-37.5,-12.5)\n",
        "\n",
        "gauss_ra_dist2=[]\n",
        "for i in range(len(ra_selected_deg2)):\n",
        "  gauss_ra_dist2.append(gauss(mu_gauss2_1,sigma_gauss2_1,ra_selected_deg2[i]))\n",
        "\n",
        "dict_ra_weights2 = {}\n",
        "for C2, D2 in zip(ra_selected_deg2, gauss_ra_dist2):\n",
        "    dict_ra_weights2[C2] = D2"
      ],
      "metadata": {
        "id": "Kl3K6W9GIEX_"
      },
      "execution_count": null,
      "outputs": []
    },
    {
      "cell_type": "code",
      "source": [
        "plt.plot(ra_selected_deg2, gauss_ra_dist2)"
      ],
      "metadata": {
        "colab": {
          "base_uri": "https://localhost:8080/",
          "height": 448
        },
        "id": "6bJqGOfHJApB",
        "outputId": "8d8f27d7-7f32-4911-da5d-1569c7bce011"
      },
      "execution_count": null,
      "outputs": [
        {
          "output_type": "execute_result",
          "data": {
            "text/plain": [
              "[<matplotlib.lines.Line2D at 0x7f1f226e4850>]"
            ]
          },
          "metadata": {},
          "execution_count": 439
        },
        {
          "output_type": "display_data",
          "data": {
            "text/plain": [
              "<Figure size 640x480 with 1 Axes>"
            ],
            "image/png": "[encoded data removed]"
          },
          "metadata": {}
        }
      ]
    },
    {
      "cell_type": "code",
      "source": [
        "mu_gauss2_2 = 0\n",
        "sigma_gauss2_2 = 10\n",
        "dec_selected_deg2= np.arange(25.,-37.5,-12.5)\n",
        "\n",
        "gauss_dec_dist2=[]\n",
        "for i in range(len(dec_selected_deg2)):\n",
        "  gauss_dec_dist2.append(gauss(mu_gauss2_2,sigma_gauss2_2,dec_selected_deg2[i]))\n",
        "\n",
        "dict_dec_weights2 = {}\n",
        "for E2, F2 in zip(dec_selected_deg2, gauss_dec_dist2):\n",
        "    dict_dec_weights2[E2] = F2"
      ],
      "metadata": {
        "id": "YyaG49qSJxJ-"
      },
      "execution_count": null,
      "outputs": []
    },
    {
      "cell_type": "code",
      "source": [
        "plt.plot(dec_selected_deg2, gauss_dec_dist2)"
      ],
      "metadata": {
        "colab": {
          "base_uri": "https://localhost:8080/",
          "height": 448
        },
        "id": "YoYJqUyDKNvC",
        "outputId": "642c33b5-62d6-4aeb-c82b-d58090154574"
      },
      "execution_count": null,
      "outputs": [
        {
          "output_type": "execute_result",
          "data": {
            "text/plain": [
              "[<matplotlib.lines.Line2D at 0x7f1f21e7b460>]"
            ]
          },
          "metadata": {},
          "execution_count": 441
        },
        {
          "output_type": "display_data",
          "data": {
            "text/plain": [
              "<Figure size 640x480 with 1 Axes>"
            ],
            "image/png": "[encoded data removed]"
          },
          "metadata": {}
        }
      ]
    },
    {
      "cell_type": "code",
      "source": [
        "dict_time_weights2"
      ],
      "metadata": {
        "colab": {
          "base_uri": "https://localhost:8080/"
        },
        "id": "d-klmrtYHb6s",
        "outputId": "f0b6b947-04c6-4f91-e3c3-649f3d549e71"
      },
      "execution_count": null,
      "outputs": [
        {
          "output_type": "execute_result",
          "data": {
            "text/plain": [
              "{12.0: 0.0024787521766663585,\n",
              " 12.25: 0.014872513059998151,\n",
              " 12.5: 0.044617539179994455,\n",
              " 12.75: 0.08923507835998891,\n",
              " 13.0: 0.13385261753998337,\n",
              " 13.25: 0.16062314104798003,\n",
              " 13.5: 0.16062314104798003,\n",
              " 13.75: 0.13767697804112575}"
            ]
          },
          "metadata": {},
          "execution_count": 442
        }
      ]
    },
    {
      "cell_type": "code",
      "source": [
        "dict_ra_weights2"
      ],
      "metadata": {
        "colab": {
          "base_uri": "https://localhost:8080/"
        },
        "id": "O70gzVROJhuV",
        "outputId": "25587740-cb66-4c0e-d7c4-80eaf7fdd180"
      },
      "execution_count": null,
      "outputs": [
        {
          "output_type": "execute_result",
          "data": {
            "text/plain": [
              "{25.0: 0.009132454269451097,\n",
              " 12.5: 0.016408048427518755,\n",
              " 0.0: 0.019947114020071637,\n",
              " -12.5: 0.016408048427518755,\n",
              " -25.0: 0.009132454269451097}"
            ]
          },
          "metadata": {},
          "execution_count": 443
        }
      ]
    },
    {
      "cell_type": "code",
      "source": [
        "dict_dec_weights2"
      ],
      "metadata": {
        "colab": {
          "base_uri": "https://localhost:8080/"
        },
        "id": "i8ao4q2YKU2i",
        "outputId": "29572402-70fc-4b1e-9e02-75a48c5b0d4a"
      },
      "execution_count": null,
      "outputs": [
        {
          "output_type": "execute_result",
          "data": {
            "text/plain": [
              "{25.0: 0.0017528300493568543,\n",
              " 12.5: 0.018264908538902194,\n",
              " 0.0: 0.039894228040143274,\n",
              " -12.5: 0.018264908538902194,\n",
              " -25.0: 0.0017528300493568543}"
            ]
          },
          "metadata": {},
          "execution_count": 444
        }
      ]
    },
    {
      "cell_type": "markdown",
      "source": [
        "**Event 2**"
      ],
      "metadata": {
        "id": "oXixmD58DC_z"
      }
    },
    {
      "cell_type": "code",
      "source": [
        "slope = -0.009\n",
        "x = np.arange(30.,45.5,0.5)\n",
        "y= []\n",
        "for i in range(len(x)):\n",
        "  y.append(slope*x[i]+1.27)\n",
        "frequency_selected_mhz= np.arange(30.,45.5,0.5)\n",
        "\n",
        "dict_frequency_weights = {}\n",
        "for G, H in zip(frequency_selected_mhz, y):\n",
        "    dict_frequency_weights[G] = H"
      ],
      "metadata": {
        "id": "xCiX2jSf7UKl"
      },
      "execution_count": null,
      "outputs": []
    },
    {
      "cell_type": "code",
      "source": [
        "dict_frequency_weights"
      ],
      "metadata": {
        "colab": {
          "base_uri": "https://localhost:8080/"
        },
        "id": "64TLrlLd9cOW",
        "outputId": "e73c169f-73b5-4374-bc13-f228b74e6cc7"
      },
      "execution_count": null,
      "outputs": [
        {
          "output_type": "execute_result",
          "data": {
            "text/plain": [
              "{30.0: 1.0,\n",
              " 30.5: 0.9955,\n",
              " 31.0: 0.9910000000000001,\n",
              " 31.5: 0.9865,\n",
              " 32.0: 0.982,\n",
              " 32.5: 0.9775,\n",
              " 33.0: 0.9730000000000001,\n",
              " 33.5: 0.9685,\n",
              " 34.0: 0.964,\n",
              " 34.5: 0.9595,\n",
              " 35.0: 0.9550000000000001,\n",
              " 35.5: 0.9505000000000001,\n",
              " 36.0: 0.9460000000000001,\n",
              " 36.5: 0.9415,\n",
              " 37.0: 0.937,\n",
              " 37.5: 0.9325000000000001,\n",
              " 38.0: 0.928,\n",
              " 38.5: 0.9235,\n",
              " 39.0: 0.919,\n",
              " 39.5: 0.9145000000000001,\n",
              " 40.0: 0.91,\n",
              " 40.5: 0.9055,\n",
              " 41.0: 0.901,\n",
              " 41.5: 0.8965000000000001,\n",
              " 42.0: 0.8920000000000001,\n",
              " 42.5: 0.8875000000000001,\n",
              " 43.0: 0.883,\n",
              " 43.5: 0.8785000000000001,\n",
              " 44.0: 0.8740000000000001,\n",
              " 44.5: 0.8695,\n",
              " 45.0: 0.865}"
            ]
          },
          "metadata": {},
          "execution_count": 446
        }
      ]
    },
    {
      "cell_type": "code",
      "source": [
        "poisson_centered_time=[]\n",
        "gauss_centered_RA= []\n",
        "gauss_centered_DEC= []\n",
        "linear_behavior_freq= []\n",
        "for i in range(len(new_table['TIME (HH:MM)'])):\n",
        "  if new_table['TIME (INT)'][i] >= 7.0 and new_table['TIME (INT)'][i] <= 8.0 and new_table['DELTA RA (DEG)'][i] <= 37.5 and new_table['DELTA RA (DEG)'][i] >= -12.5 and new_table['DELTA DEC (DEG)'][i] <= 37.5 and new_table['DELTA DEC (DEG)'][i] >= -12.5:\n",
        "    poisson_centered_time.append(dict_time_weights1[new_table['TIME (INT)'][i]])\n",
        "    gauss_centered_RA.append(dict_ra_weights1[new_table['DELTA RA (DEG)'][i]])\n",
        "    gauss_centered_DEC.append(dict_dec_weights1[new_table['DELTA DEC (DEG)'][i]])\n",
        "    linear_behavior_freq.append(dict_frequency_weights[new_table['FREQUENCY (MHz)'][i]])\n",
        "  else:\n",
        "    poisson_centered_time.append(0)\n",
        "    gauss_centered_RA.append(0)\n",
        "    gauss_centered_DEC.append(0)\n",
        "    linear_behavior_freq.append(dict_frequency_weights[new_table['FREQUENCY (MHz)'][i]])"
      ],
      "metadata": {
        "id": "viuXmSbo7Vm6"
      },
      "execution_count": null,
      "outputs": []
    },
    {
      "cell_type": "code",
      "source": [
        "max_power_add= 1\n",
        "for i in range(len(new_table['TIME (HH:MM)'])):\n",
        "  new_table['RAND POWER NOISE (dBm)'][i] = new_table['RAND POWER NOISE (dBm)'][i] - max_power_add*poisson_centered_time[i]*gauss_centered_RA[i]*gauss_centered_DEC[i]*linear_behavior_freq[i]"
      ],
      "metadata": {
        "colab": {
          "base_uri": "https://localhost:8080/"
        },
        "id": "Avahsp597ZDR",
        "outputId": "109d0788-eb71-4f67-de54-ccf83d1d3204"
      },
      "execution_count": null,
      "outputs": [
        {
          "output_type": "stream",
          "name": "stderr",
          "text": [
            "<ipython-input-448-26077fb4ffa3>:3: SettingWithCopyWarning: \n",
            "A value is trying to be set on a copy of a slice from a DataFrame\n",
            "\n",
            "See the caveats in the documentation: https://pandas.pydata.org/pandas-docs/stable/user_guide/indexing.html#returning-a-view-versus-a-copy\n",
            "  new_table['RAND POWER NOISE (dBm)'][i] = new_table['RAND POWER NOISE (dBm)'][i] - max_power_add*poisson_centered_time[i]*gauss_centered_RA[i]*gauss_centered_DEC[i]*linear_behavior_freq[i]\n"
          ]
        }
      ]
    },
    {
      "cell_type": "code",
      "source": [
        "poisson_centered_time_2= []\n",
        "gauss_centered_RA_2= []\n",
        "gauss_centered_DEC_2= []\n",
        "linear_behavior_freq_2= []\n",
        "for i in range(len(new_table['TIME (HH:MM)'])):\n",
        "  if new_table['TIME (INT)'][i] >= 12. and new_table['TIME (INT)'][i] <= 13.75 and new_table['DELTA RA (DEG)'][i] >= -25. and new_table['DELTA RA (DEG)'][i] <= 25. and new_table['DELTA DEC (DEG)'][i] >= -25. and new_table['DELTA DEC (DEG)'][i] <= 25.:\n",
        "    poisson_centered_time_2.append(dict_time_weights2[new_table['TIME (INT)'][i]])\n",
        "    gauss_centered_RA_2.append(dict_ra_weights2[new_table['DELTA RA (DEG)'][i]])\n",
        "    gauss_centered_DEC_2.append(dict_dec_weights2[new_table['DELTA DEC (DEG)'][i]])\n",
        "    linear_behavior_freq_2.append(dict_frequency_weights[new_table['FREQUENCY (MHz)'][i]])\n",
        "  else:\n",
        "    poisson_centered_time_2.append(poisson_centered_time[i])\n",
        "    gauss_centered_RA_2.append(gauss_centered_RA[i])\n",
        "    gauss_centered_DEC_2.append(gauss_centered_DEC[i])\n",
        "    linear_behavior_freq_2.append(linear_behavior_freq[i])"
      ],
      "metadata": {
        "id": "IzZL-hjtDQ08"
      },
      "execution_count": null,
      "outputs": []
    },
    {
      "cell_type": "code",
      "source": [
        "max_power_add= 5000\n",
        "for i in range(len(new_table['TIME (HH:MM)'])):\n",
        "  new_table['RAND POWER NOISE (dBm)'][i] = new_table['RAND POWER NOISE (dBm)'][i] - max_power_add*poisson_centered_time_2[i]*gauss_centered_RA_2[i]*gauss_centered_DEC_2[i]*linear_behavior_freq_2[i]"
      ],
      "metadata": {
        "colab": {
          "base_uri": "https://localhost:8080/"
        },
        "id": "NvnZY8hMF9fy",
        "outputId": "f67d4b69-0631-4590-b8a3-c277819da90d"
      },
      "execution_count": null,
      "outputs": [
        {
          "output_type": "stream",
          "name": "stderr",
          "text": [
            "<ipython-input-450-482302493d31>:3: SettingWithCopyWarning: \n",
            "A value is trying to be set on a copy of a slice from a DataFrame\n",
            "\n",
            "See the caveats in the documentation: https://pandas.pydata.org/pandas-docs/stable/user_guide/indexing.html#returning-a-view-versus-a-copy\n",
            "  new_table['RAND POWER NOISE (dBm)'][i] = new_table['RAND POWER NOISE (dBm)'][i] - max_power_add*poisson_centered_time_2[i]*gauss_centered_RA_2[i]*gauss_centered_DEC_2[i]*linear_behavior_freq_2[i]\n"
          ]
        }
      ]
    },
    {
      "cell_type": "code",
      "source": [
        "relative_abs_coef= []\n",
        "for i in range(len(new_table['POWER NOISE (dBm)'])):\n",
        "#  relative_abs_coef.append(10*np.log10(new_table['POWER NOISE (dBm)'][i]/new_table['RAND POWER NOISE (dBm)'][i]))\n",
        "  relative_abs_coef.append(new_table['POWER NOISE (dBm)'][i] - new_table['RAND POWER NOISE (dBm)'][i])\n",
        "\n",
        "new_table.insert(7, 'RELATIVE ABSORPTION COEF (dB)', relative_abs_coef, True)"
      ],
      "metadata": {
        "id": "99CLw4ZT7b3F"
      },
      "execution_count": null,
      "outputs": []
    },
    {
      "cell_type": "code",
      "source": [
        "from google.colab import files\n",
        "new_table.to_csv('dataset_sim_abs_7.csv')\n",
        "files.download('dataset_sim_abs_7.csv')"
      ],
      "metadata": {
        "colab": {
          "base_uri": "https://localhost:8080/",
          "height": 17
        },
        "id": "gY_LL9QD7iDL",
        "outputId": "8ce6c9cd-e4c9-44d2-c6ee-8a03228216a9"
      },
      "execution_count": null,
      "outputs": [
        {
          "output_type": "display_data",
          "data": {
            "text/plain": [
              "<IPython.core.display.Javascript object>"
            ],
            "application/javascript": [
              "\n",
              "    async function download(id, filename, size) {\n",
              "      if (!google.colab.kernel.accessAllowed) {\n",
              "        return;\n",
              "      }\n",
              "      const div = document.createElement('div');\n",
              "      const label = document.createElement('label');\n",
              "      label.textContent = `Downloading \"${filename}\": `;\n",
              "      div.appendChild(label);\n",
              "      const progress = document.createElement('progress');\n",
              "      progress.max = size;\n",
              "      div.appendChild(progress);\n",
              "      document.body.appendChild(div);\n",
              "\n",
              "      const buffers = [];\n",
              "      let downloaded = 0;\n",
              "\n",
              "      const channel = await google.colab.kernel.comms.open(id);\n",
              "      // Send a message to notify the kernel that we're ready.\n",
              "      channel.send({})\n",
              "\n",
              "      for await (const message of channel.messages) {\n",
              "        // Send a message to notify the kernel that we're ready.\n",
              "        channel.send({})\n",
              "        if (message.buffers) {\n",
              "          for (const buffer of message.buffers) {\n",
              "            buffers.push(buffer);\n",
              "            downloaded += buffer.byteLength;\n",
              "            progress.value = downloaded;\n",
              "          }\n",
              "        }\n",
              "      }\n",
              "      const blob = new Blob(buffers, {type: 'application/binary'});\n",
              "      const a = document.createElement('a');\n",
              "      a.href = window.URL.createObjectURL(blob);\n",
              "      a.download = filename;\n",
              "      div.appendChild(a);\n",
              "      a.click();\n",
              "      div.remove();\n",
              "    }\n",
              "  "
            ]
          },
          "metadata": {}
        },
        {
          "output_type": "display_data",
          "data": {
            "text/plain": [
              "<IPython.core.display.Javascript object>"
            ],
            "application/javascript": [
              "download(\"download_c908c19f-477d-4e64-bd2e-acd51a225458\", \"dataset_sim_abs_7.csv\", 13545176)"
            ]
          },
          "metadata": {}
        }
      ]
    },
    {
      "cell_type": "markdown",
      "source": [
        "**LAB SECTION**"
      ],
      "metadata": {
        "id": "66dfcPBGELpN"
      }
    },
    {
      "cell_type": "code",
      "source": [
        "unicos_tiempo_int= new_table['TIME (INT)'].unique()\n",
        "unicos_tiempo_int"
      ],
      "metadata": {
        "colab": {
          "base_uri": "https://localhost:8080/"
        },
        "id": "lDXOHFnnEYmB",
        "outputId": "5425ddd5-e845-416b-d0f2-6415f4d671ee"
      },
      "execution_count": null,
      "outputs": [
        {
          "output_type": "execute_result",
          "data": {
            "text/plain": [
              "array([ 0.  ,  0.25,  0.5 ,  0.75,  1.  ,  1.25,  1.5 ,  1.75,  2.  ,\n",
              "        2.25,  2.5 ,  2.75,  3.  ,  3.25,  3.5 ,  3.75,  4.  ,  4.25,\n",
              "        4.5 ,  4.75,  5.  ,  5.25,  5.5 ,  5.75,  6.  ,  6.25,  6.5 ,\n",
              "        6.75,  7.  ,  7.25,  7.5 ,  7.75,  8.  ,  8.25,  8.5 ,  8.75,\n",
              "        9.  ,  9.25,  9.5 ,  9.75, 10.  , 10.25, 10.5 , 10.75, 11.  ,\n",
              "       11.25, 11.5 , 11.75, 12.  , 12.25, 12.5 , 12.75, 13.  , 13.25,\n",
              "       13.5 , 13.75, 14.  , 14.25, 14.5 , 14.75, 15.  , 15.25, 15.5 ,\n",
              "       15.75, 16.  , 16.25, 16.5 , 16.75, 17.  , 17.25, 17.5 , 17.75,\n",
              "       18.  , 18.25, 18.5 , 18.75, 19.  , 19.25, 19.5 , 19.75, 20.  ,\n",
              "       20.25, 20.5 , 20.75, 21.  , 21.25, 21.5 , 21.75, 22.  , 22.25,\n",
              "       22.5 , 22.75, 23.  , 23.25, 23.5 , 23.75, 24.  ])"
            ]
          },
          "metadata": {},
          "execution_count": 453
        }
      ]
    },
    {
      "cell_type": "code",
      "source": [
        "power_ref_38MHz= []\n",
        "power_rand_38MHz= []\n",
        "for i in range(len(new_table['POWER NOISE (dBm)'])):\n",
        "  if new_table['FREQUENCY (MHz)'][i]==38. and new_table['DELTA RA (DEG)'][i]==0. and new_table['DELTA DEC (DEG)'][i]==0.:\n",
        "    power_ref_38MHz.append(new_table['POWER NOISE (dBm)'][i])\n",
        "    power_rand_38MHz.append(new_table['RAND POWER NOISE (dBm)'][i])\n",
        "\n",
        "plt.figure(figsize=(8,4))\n",
        "plt.plot(unicos_tiempo_int,power_ref_38MHz,c='y', label='Reference Power Curve')\n",
        "plt.plot(unicos_tiempo_int,power_rand_38MHz, c='b', label= 'Random Measured Curve')\n",
        "plt.legend(loc='best')"
      ],
      "metadata": {
        "colab": {
          "base_uri": "https://localhost:8080/",
          "height": 386
        },
        "id": "ca9VJwvEElV-",
        "outputId": "1814f89c-3c28-4178-9b0d-c166581125d0"
      },
      "execution_count": null,
      "outputs": [
        {
          "output_type": "execute_result",
          "data": {
            "text/plain": [
              "<matplotlib.legend.Legend at 0x7f1f26f3e730>"
            ]
          },
          "metadata": {},
          "execution_count": 454
        },
        {
          "output_type": "display_data",
          "data": {
            "text/plain": [
              "<Figure size 800x400 with 1 Axes>"
            ],
            "image/png": "[encoded data removed]"
          },
          "metadata": {}
        }
      ]
    }
  ]
}